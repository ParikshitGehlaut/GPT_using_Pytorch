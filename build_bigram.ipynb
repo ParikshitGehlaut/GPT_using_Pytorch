{
  "nbformat": 4,
  "nbformat_minor": 0,
  "metadata": {
    "colab": {
      "provenance": [],
      "gpuType": "T4",
      "authorship_tag": "ABX9TyOlVJA78PbH2pzAFaMNaw+Z",
      "include_colab_link": true
    },
    "kernelspec": {
      "name": "python3",
      "display_name": "Python 3"
    },
    "language_info": {
      "name": "python"
    },
    "accelerator": "GPU"
  },
  "cells": [
    {
      "cell_type": "markdown",
      "metadata": {
        "id": "view-in-github",
        "colab_type": "text"
      },
      "source": [
        "<a href=\"https://colab.research.google.com/github/ParikshitGehlaut/GPT_using_Pytorch/blob/main/build_bigram.ipynb\" target=\"_parent\"><img src=\"https://colab.research.google.com/assets/colab-badge.svg\" alt=\"Open In Colab\"/></a>"
      ]
    },
    {
      "cell_type": "code",
      "execution_count": 43,
      "metadata": {
        "id": "mFt5YJ2SjVsr"
      },
      "outputs": [],
      "source": [
        "import torch\n",
        "import torch.nn as nn\n",
        "import torch.nn.functional as F\n",
        "device = 'cuda:0' if torch.cuda.is_available() else 'cpu'"
      ]
    },
    {
      "cell_type": "code",
      "source": [
        "device"
      ],
      "metadata": {
        "colab": {
          "base_uri": "https://localhost:8080/",
          "height": 35
        },
        "id": "gdx6b_ozj9hD",
        "outputId": "d0b71d4a-65f5-47a3-ec94-93318d9a5f1e"
      },
      "execution_count": 44,
      "outputs": [
        {
          "output_type": "execute_result",
          "data": {
            "text/plain": [
              "'cuda:0'"
            ],
            "application/vnd.google.colaboratory.intrinsic+json": {
              "type": "string"
            }
          },
          "metadata": {},
          "execution_count": 44
        }
      ]
    },
    {
      "cell_type": "code",
      "source": [
        "words = open('input.txt', 'r').read().splitlines()\n",
        "print(len(words))"
      ],
      "metadata": {
        "colab": {
          "base_uri": "https://localhost:8080/"
        },
        "id": "ja-pVVG1kBLe",
        "outputId": "23633cdc-4f07-45f5-f8dd-ba2e7f952a6a"
      },
      "execution_count": 45,
      "outputs": [
        {
          "output_type": "stream",
          "name": "stdout",
          "text": [
            "32033\n"
          ]
        }
      ]
    },
    {
      "cell_type": "code",
      "source": [
        "chars = sorted(list(set(''.join(words))))\n",
        "stoi = {s:i+1 for i,s in enumerate(chars)}\n",
        "stoi['.'] = 0\n",
        "itos = {i+1:s for i,s in enumerate(chars)}\n",
        "itos[0] = '.'"
      ],
      "metadata": {
        "id": "UioNuAftk9b4"
      },
      "execution_count": 46,
      "outputs": []
    },
    {
      "cell_type": "code",
      "source": [
        "stoi['a']"
      ],
      "metadata": {
        "colab": {
          "base_uri": "https://localhost:8080/"
        },
        "id": "F3ijgmXTmyks",
        "outputId": "cfdeb0bb-b76f-4b06-8b9c-551468d86397"
      },
      "execution_count": 47,
      "outputs": [
        {
          "output_type": "execute_result",
          "data": {
            "text/plain": [
              "1"
            ]
          },
          "metadata": {},
          "execution_count": 47
        }
      ]
    },
    {
      "cell_type": "code",
      "source": [
        "xs, ys = [], []\n",
        "\n",
        "for w in words:\n",
        "  chs = ['.'] + list(w) + ['.']\n",
        "  for ch1, ch2 in zip(chs, chs[1:]):\n",
        "    xs.append(stoi[ch1])\n",
        "    ys.append(stoi[ch2])\n",
        "\n",
        "xs = torch.tensor(xs, device = device)\n",
        "ys = torch.tensor(ys, device = device)"
      ],
      "metadata": {
        "id": "Pc2tgN2EkUxu"
      },
      "execution_count": 48,
      "outputs": []
    },
    {
      "cell_type": "code",
      "source": [
        "num = xs.nelement()\n",
        "print(f'num of elements in xs : {num}')\n",
        "\n",
        "g = torch.Generator(device).manual_seed(2147483642)\n",
        "W = torch.randn((27, 27), generator=g, device=device, requires_grad=True)"
      ],
      "metadata": {
        "colab": {
          "base_uri": "https://localhost:8080/"
        },
        "id": "ftyPtCdcnQN-",
        "outputId": "a8d8efad-90c3-4cb7-d716-50faea87aff7"
      },
      "execution_count": 49,
      "outputs": [
        {
          "output_type": "stream",
          "name": "stdout",
          "text": [
            "num of elements in xs : 228146\n"
          ]
        }
      ]
    },
    {
      "cell_type": "code",
      "source": [
        "# Training loop for bigram model\n",
        "for _ in range(1000):\n",
        "  # Forward pass\n",
        "  xenc =  F.one_hot(xs, num_classes=27).float()\n",
        "  logits = xenc @ W\n",
        "  counts = logits.exp()\n",
        "  prob = counts / counts.sum(1, keepdim=True) + 0.01 * (W**2).mean()\n",
        "  loss = -prob[torch.arange(num, device = device), ys].log().mean()\n",
        "\n",
        "  W.grad = None\n",
        "  loss.backward()\n",
        "\n",
        "  W.data += -1 * W.grad\n",
        "\n",
        "print(loss.item())"
      ],
      "metadata": {
        "colab": {
          "base_uri": "https://localhost:8080/"
        },
        "id": "Ssmspz72oCYy",
        "outputId": "b24ebb08-c518-4100-ff43-146aba8b44b0"
      },
      "execution_count": 50,
      "outputs": [
        {
          "output_type": "stream",
          "name": "stdout",
          "text": [
            "2.2428927421569824\n"
          ]
        }
      ]
    },
    {
      "cell_type": "code",
      "source": [
        "ix = 0\n",
        "g = torch.Generator(device=device).manual_seed(2147483642)\n",
        "for i in range(100):\n",
        "  out = []\n",
        "  while True:\n",
        "    xenc = F.one_hot(torch.tensor([ix], device = device), num_classes=27).float()\n",
        "    logits = xenc @ W\n",
        "    counts = logits.exp()\n",
        "    p = counts / counts.sum(1, keepdims=True)\n",
        "\n",
        "    ix =  torch.multinomial(p, num_samples=1, replacement=True, generator=g).item()\n",
        "    out.append(itos[ix])\n",
        "    if ix == 0:\n",
        "      break\n",
        "\n",
        "  print(''.join(out))"
      ],
      "metadata": {
        "colab": {
          "base_uri": "https://localhost:8080/"
        },
        "id": "ZkjR8hniqs1u",
        "outputId": "7f74b1bd-5e62-431b-b480-179476392f64"
      },
      "execution_count": 53,
      "outputs": [
        {
          "output_type": "stream",
          "name": "stdout",
          "text": [
            "kana.\n",
            "jaliet.\n",
            "aya.\n",
            "malia.\n",
            "zia.\n",
            "bn.\n",
            "ja.\n",
            "ma.\n",
            "arigyahas.\n",
            "jahqsjhanisere.\n",
            "zon.\n",
            "manazzqmxy.\n",
            "a.\n",
            "ka.\n",
            "ma.\n",
            "clana.\n",
            "da.\n",
            "ahmay.\n",
            "ri.\n",
            "cpsy.\n",
            "s.\n",
            "kt.\n",
            "kaahalin.\n",
            "aa.\n",
            "enn.\n",
            "d.\n",
            "sofra.\n",
            "ze.\n",
            "naraaha.\n",
            "sian.\n",
            "aridelaqfahah.\n",
            "fja.\n",
            "kaosshriatbfay.\n",
            "an.\n",
            "aha.\n",
            "jele.\n",
            "meyn.\n",
            "ma.\n",
            "gfqentfgnpzadalala.\n",
            "ma.\n",
            "n.\n",
            "annahaxdennannariehan.\n",
            "na.\n",
            "me.\n",
            "puwn.\n",
            "mertea.\n",
            "a.\n",
            "anan.\n",
            "anan.\n",
            "aron.\n",
            "mrevi.\n",
            "nha.\n",
            "bkjara.\n",
            "da.\n",
            "mie.\n",
            "aeliajaynmmashalesokhghxyainn.\n",
            "an.\n",
            "dar.\n",
            "jomaneshqluzpzxthagriyxqen.\n",
            "kadkleynijyli.\n",
            "ma.\n",
            "akamerarinajxy.\n",
            "jayann.\n",
            "marerele.\n",
            "le.\n",
            "minylixriponeriuzean.\n",
            "z.\n",
            "acpworx.\n",
            "ariacin.\n",
            "kxudenn.\n",
            "synenes.\n",
            "mi.\n",
            "denan.\n",
            "ahay.\n",
            "s.\n",
            "mai.\n",
            "klironn.\n",
            "mahkleli.\n",
            "rieealeleluzerannn.\n",
            "ahi.\n",
            "me.\n",
            "madelajama.\n",
            "jenaberas.\n",
            "si.\n",
            "ktyina.\n",
            "ana.\n",
            "za.\n",
            "as.\n",
            "jadbe.\n",
            "szuxyahalyn.\n",
            "arfle.\n",
            "kalaxya.\n",
            "wmala.\n",
            "belharacqeri.\n",
            "kann.\n",
            "son.\n",
            "maha.\n",
            "a.\n",
            "jscla.\n",
            "s.\n"
          ]
        }
      ]
    },
    {
      "cell_type": "code",
      "source": [],
      "metadata": {
        "id": "VKDr6piPsDys"
      },
      "execution_count": null,
      "outputs": []
    }
  ]
}